{
 "cells": [
  {
   "cell_type": "markdown",
   "metadata": {},
   "source": [
    "# Virtual Power with a Blackburn Tech Fluid Trainer \n",
    "I purchased a Blackburn Tech Fluid indoor trainer last year. With the help of an ANT+ dongle ([wiki/ANT+](https://en.wikipedia.org/wiki/ANT%2B)) and the brilliant open source software [GoldenCheetah](http://www.goldencheetah.org/) one can built a virtual power meter. A slightly longer description of the background can be found e.g. [here](http://thebikegeek.blogspot.de/2009/12/while-we-wait-for-better-and-better.html); in short: the relationship between power and speed is almost fixed for this type of trainer as there is minimal coasting and, unlike most magnetic resistance based trainers, only one resistance setting. Thus, given the speed sent by any ANT+ speed sensor and received from the dongle, applied power can be calculated if the relationship is known. The relationship or characteristic power curve looks something like this:\n",
    "![alt text](pics/bb_tech_fluid_power_curve_1.jpg \"Presumably wrong power curve of the Blackburn Tech Fluid\")\n",
    "\n",
    "This power curve can be modeled by a polynomial equation like $y=a_0 + a_1 x+ a_2 x^2$. GoldenCheetah already implements a number of equations for  respective indoor trainers but unfortunately not for the Tech Fluid. The power curve can be either obtained by using a real power meter, which can also capture setup specifics, or (as in this case) be published by the manufacturer. The customer support of Blackburn kindly sent me two power curves, which are not equivalent. I used the one below instead of the one above which seems way off:\n",
    "![alt text](pics/bb_tech_fluid_power_curve_2.jpg \"Presumably right power curve of the Blackburn Tech Fluid\")\n",
    "\n",
    "From the given image I roughly estimated following points:\n"
   ]
  },
  {
   "cell_type": "code",
   "execution_count": 8,
   "metadata": {
    "collapsed": false
   },
   "outputs": [
    {
     "data": {
      "text/html": [
       "<div>\n",
       "<table border=\"1\" class=\"dataframe\">\n",
       "  <thead>\n",
       "    <tr style=\"text-align: right;\">\n",
       "      <th></th>\n",
       "      <th>x</th>\n",
       "      <th>y</th>\n",
       "    </tr>\n",
       "  </thead>\n",
       "  <tbody>\n",
       "    <tr>\n",
       "      <th>1</th>\n",
       "      <td>0</td>\n",
       "      <td>0</td>\n",
       "    </tr>\n",
       "    <tr>\n",
       "      <th>2</th>\n",
       "      <td>5</td>\n",
       "      <td>5</td>\n",
       "    </tr>\n",
       "    <tr>\n",
       "      <th>3</th>\n",
       "      <td>10</td>\n",
       "      <td>15</td>\n",
       "    </tr>\n",
       "    <tr>\n",
       "      <th>4</th>\n",
       "      <td>15</td>\n",
       "      <td>30</td>\n",
       "    </tr>\n",
       "    <tr>\n",
       "      <th>5</th>\n",
       "      <td>20</td>\n",
       "      <td>75</td>\n",
       "    </tr>\n",
       "    <tr>\n",
       "      <th>6</th>\n",
       "      <td>25</td>\n",
       "      <td>110</td>\n",
       "    </tr>\n",
       "    <tr>\n",
       "      <th>7</th>\n",
       "      <td>30</td>\n",
       "      <td>160</td>\n",
       "    </tr>\n",
       "    <tr>\n",
       "      <th>8</th>\n",
       "      <td>35</td>\n",
       "      <td>220</td>\n",
       "    </tr>\n",
       "    <tr>\n",
       "      <th>9</th>\n",
       "      <td>40</td>\n",
       "      <td>310</td>\n",
       "    </tr>\n",
       "    <tr>\n",
       "      <th>10</th>\n",
       "      <td>45</td>\n",
       "      <td>415</td>\n",
       "    </tr>\n",
       "    <tr>\n",
       "      <th>11</th>\n",
       "      <td>50</td>\n",
       "      <td>510</td>\n",
       "    </tr>\n",
       "    <tr>\n",
       "      <th>12</th>\n",
       "      <td>55</td>\n",
       "      <td>625</td>\n",
       "    </tr>\n",
       "    <tr>\n",
       "      <th>13</th>\n",
       "      <td>60</td>\n",
       "      <td>760</td>\n",
       "    </tr>\n",
       "  </tbody>\n",
       "</table>\n",
       "</div>"
      ],
      "text/plain": [
       "     x    y\n",
       "1    0    0\n",
       "2    5    5\n",
       "3   10   15\n",
       "4   15   30\n",
       "5   20   75\n",
       "6   25  110\n",
       "7   30  160\n",
       "8   35  220\n",
       "9   40  310\n",
       "10  45  415\n",
       "11  50  510\n",
       "12  55  625\n",
       "13  60  760"
      ]
     },
     "execution_count": 8,
     "metadata": {},
     "output_type": "execute_result"
    }
   ],
   "source": [
    "import pandas as pd\n",
    "\n",
    "index = [i + 1 for i in range(13)]\n",
    "d = {'x': [0, 5, 10, 15, 20, 25, 30, 35, 40, 45, 50, 55, 60], 'y': [0, 5, 15, 30, 75, 110, 160, 220, 310, 415, 510, 625, 760]}\n",
    "df = pd.DataFrame(data=d, index=index)\n",
    "df"
   ]
  },
  {
   "cell_type": "markdown",
   "metadata": {},
   "source": [
    "Fit polynom to the data points using linear regression (from [this helpful example](http://scikit-learn.org/stable/auto_examples/linear_model/plot_polynomial_interpolation.html)):"
   ]
  },
  {
   "cell_type": "code",
   "execution_count": 9,
   "metadata": {
    "collapsed": false,
    "scrolled": true
   },
   "outputs": [
    {
     "data": {
      "image/png": "[encoded data removed]",
      "text/plain": [
       "<matplotlib.figure.Figure at 0x7fb6c8088240>"
      ]
     },
     "metadata": {},
     "output_type": "display_data"
    },
    {
     "name": "stdout",
     "output_type": "stream",
     "text": [
      "a_0: 6.758241758241894\n",
      "a_1: -1.9995004995004955\n",
      "a_2: 0.24165834165834146\n"
     ]
    },
    {
     "data": {
      "text/plain": [
       "''"
      ]
     },
     "execution_count": 9,
     "metadata": {},
     "output_type": "execute_result"
    }
   ],
   "source": [
    "%matplotlib inline\n",
    "import numpy as np\n",
    "import matplotlib.pyplot as plt\n",
    "from sklearn.linear_model import LinearRegression\n",
    "from sklearn.preprocessing import PolynomialFeatures\n",
    "from sklearn.pipeline import make_pipeline\n",
    "\n",
    "x_plot = np.linspace(0, 70, 100)\n",
    "X = df.as_matrix(['x'])\n",
    "# Require matrix version of x_plot array\n",
    "X_plot = x_plot[:, np.newaxis]\n",
    "\n",
    "# Plot data points\n",
    "plt.scatter(df['x'], df['y'], label='training points')\n",
    "\n",
    "# Transform input data matrices to matrices of degree 2\n",
    "degree = 2\n",
    "poly = PolynomialFeatures(degree=degree)\n",
    "X = poly.fit_transform(X)\n",
    "X_plot = poly.fit_transform(X_plot)\n",
    "\n",
    "# Fit polynom\n",
    "model = LinearRegression()\n",
    "model.fit(X, df['y'])\n",
    "y_plot = model.predict(X_plot)\n",
    "plt.plot(x_plot, y_plot, label='Polynom of degree {0}'.format(degree))\n",
    "\n",
    "plt.legend(loc='upper left')\n",
    "plt.xlabel('Speed in kph')\n",
    "plt.ylabel('Power in watts')\n",
    "plt.show()\n",
    "print('a_0: {0}'.format(model.intercept_))\n",
    "print('a_1: {0}'.format(model.coef_[1]))\n",
    "print('a_2: {0}'.format(model.coef_[2]))\n",
    ";"
   ]
  },
  {
   "cell_type": "markdown",
   "metadata": {},
   "source": [
    "Thus, the power $y$ can be calculated by $y=6.76-2.00x+0.24x^2$ where $x$ is the speed."
   ]
  }
 ],
 "metadata": {
  "kernelspec": {
   "display_name": "Python 3",
   "language": "python",
   "name": "python3"
  },
  "language_info": {
   "codemirror_mode": {
    "name": "ipython",
    "version": 3
   },
   "file_extension": ".py",
   "mimetype": "text/x-python",
   "name": "python",
   "nbconvert_exporter": "python",
   "pygments_lexer": "ipython3",
   "version": "3.5.1"
  }
 },
 "nbformat": 4,
 "nbformat_minor": 0
}
